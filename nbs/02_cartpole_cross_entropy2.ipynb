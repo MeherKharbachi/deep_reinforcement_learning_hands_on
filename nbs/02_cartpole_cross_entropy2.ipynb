{
 "cells": [
  {
   "cell_type": "code",
   "execution_count": null,
   "id": "9173b7ff",
   "metadata": {},
   "outputs": [],
   "source": [
    "#| default_exp cartpole_cross_entropy2"
   ]
  },
  {
   "cell_type": "code",
   "execution_count": null,
   "id": "14f21c18",
   "metadata": {},
   "outputs": [
    {
     "name": "stderr",
     "output_type": "stream",
     "text": [
      "/home/meherkh/anaconda3/envs/matchpred/lib/python3.9/site-packages/torchvision/io/image.py:13: UserWarning: Failed to load image Python extension: /home/meherkh/anaconda3/envs/matchpred/lib/python3.9/site-packages/torchvision/image.so: undefined symbol: _ZNK2at10TensorBase21__dispatch_contiguousEN3c1012MemoryFormatE\n",
      "  warn(f\"Failed to load image Python extension: {e}\")\n"
     ]
    }
   ],
   "source": [
    "import gym\n",
    "import numpy as np\n",
    "import torch\n",
    "import torch.nn as nn\n",
    "import torch.optim as optim\n",
    "from collections import namedtuple\n",
    "from torch.utils.data import DataLoader, TensorDataset\n",
    "from pytorch_lightning import LightningModule, Trainer\n",
    "\n",
    "# Constants\n",
    "HIDDEN_SIZE = 128\n",
    "BATCH_SIZE = 16\n",
    "PERCENTILE = 70\n",
    "\n",
    "# Named tuples to store episodes and steps\n",
    "Episode = namedtuple('Episode', field_names=['reward', 'steps'])\n",
    "EpisodeStep = namedtuple('EpisodeStep', field_names=['observation', 'action'])"
   ]
  },
  {
   "cell_type": "code",
   "execution_count": null,
   "id": "93b4fd3c",
   "metadata": {},
   "outputs": [],
   "source": [
    "# NN for our agent\n",
    "class Net(nn.Module):\n",
    "    def __init__(self, obs_size, hidden_size, n_actions):\n",
    "        super(Net, self).__init__()\n",
    "        self.net = nn.Sequential(\n",
    "            nn.Linear(obs_size, hidden_size),\n",
    "            nn.ReLU(),\n",
    "            nn.Linear(hidden_size, n_actions)\n",
    "        )\n",
    "\n",
    "    def forward(self, x):\n",
    "        return self.net(x)\n"
   ]
  },
  {
   "cell_type": "code",
   "execution_count": null,
   "id": "8c90efb2",
   "metadata": {},
   "outputs": [],
   "source": [
    "def iterate_batches(env, net, batch_size=16):\n",
    "    batch = []\n",
    "    episode_reward = 0.0\n",
    "    episode_steps = []\n",
    "    obs = env.reset()\n",
    "    sm = nn.Softmax(dim=1)\n",
    "    while True:\n",
    "        obs_v = torch.FloatTensor([obs])\n",
    "        act_probs_v = sm(net(obs_v))\n",
    "        act_probs = act_probs_v.data.numpy()[0]\n",
    "        action = np.random.choice(len(act_probs), p=act_probs)\n",
    "        next_obs, reward, is_done, _ = env.step(action)\n",
    "        episode_reward += reward\n",
    "        step = EpisodeStep(observation=obs, action=action)\n",
    "        episode_steps.append(step)\n",
    "        if is_done:\n",
    "            e = Episode(reward=episode_reward, steps=episode_steps)\n",
    "            batch.append(e)\n",
    "            episode_reward = 0.0\n",
    "            episode_steps = []\n",
    "            next_obs = env.reset()\n",
    "            if len(batch) == batch_size:\n",
    "                yield batch\n",
    "                batch = []\n",
    "        obs = next_obs\n",
    "\n",
    "\n",
    "def filter_batch(batch, percentile = 70):\n",
    "    rewards = list(map(lambda s: s.reward, batch))\n",
    "    reward_bound = np.percentile(rewards, percentile)\n",
    "    reward_mean = float(np.mean(rewards))\n",
    "\n",
    "    train_obs = []\n",
    "    train_act = []\n",
    "    for reward, steps in batch:\n",
    "        if reward < reward_bound:\n",
    "            continue\n",
    "        train_obs.extend(map(lambda step: step.observation, steps))\n",
    "        train_act.extend(map(lambda step: step.action, steps))\n",
    "\n",
    "    train_obs_v = torch.FloatTensor(train_obs)\n",
    "    train_act_v = torch.LongTensor(train_act)\n",
    "    return train_obs_v, train_act_v, reward_bound, reward_mean\n"
   ]
  },
  {
   "cell_type": "code",
   "execution_count": null,
   "id": "3e02e14a",
   "metadata": {},
   "outputs": [],
   "source": [
    "class CartPoleModule(LightningModule):\n",
    "    def __init__(self, obs_size, n_actions):\n",
    "        super(CartPoleModule, self).__init__()\n",
    "        self.net = Net(obs_size, HIDDEN_SIZE, n_actions)\n",
    "        self.objective = nn.CrossEntropyLoss()\n",
    "        self.optimizer = optim.Adam(params=self.net.parameters(), lr=0.01)\n",
    "        self.batch_size = 16\n",
    "        self.percentile = 70\n",
    "        \n",
    "    def forward(self, x):\n",
    "        return self.net(x)\n",
    "\n",
    "    def training_step(self, batch, batch_idx):\n",
    "        obs_v, acts_v, reward_b, reward_m = filter_batch(batch, self.percentile)\n",
    "        action_scores_v = self.forward(obs_v)\n",
    "        loss_v = self.objective(action_scores_v, acts_v)\n",
    "        logs = {'loss': loss_v, 'reward_mean': reward_m, 'reward_bound': reward_b}\n",
    "        return {'loss': loss_v, 'log': logs}\n",
    "    \n",
    "    def on_train_epoch_end(self, outputs):\n",
    "        reward_mean = np.mean([x['log']['reward_mean'] for x in outputs])\n",
    "        if reward_mean > 199:\n",
    "            print(\"Solved!\")\n",
    "            trainer.stop_training = True\n",
    "\n",
    "    def on_train_end(self):\n",
    "        self.trainer.save_checkpoint('model.ckpt')\n",
    "\n",
    "    def train_dataloader(self):\n",
    "        env = gym.make(\"CartPole-v0\")\n",
    "        return iterate_batches(env, self.net, self.batch_size)\n",
    "\n",
    "    \n",
    "    def configure_optimizers(self):\n",
    "        return self.optimizer\n"
   ]
  },
  {
   "cell_type": "code",
   "execution_count": null,
   "id": "36135ea4",
   "metadata": {},
   "outputs": [
    {
     "name": "stderr",
     "output_type": "stream",
     "text": [
      "/home/meherkh/anaconda3/envs/matchpred/lib/python3.9/site-packages/lightning_lite/accelerators/cuda.py:159: UserWarning: Can't initialize NVML\n",
      "  warnings.warn(\"Can't initialize NVML\")\n",
      "GPU available: False, used: False\n",
      "TPU available: False, using: 0 TPU cores\n",
      "IPU available: False, using: 0 IPUs\n",
      "HPU available: False, using: 0 HPUs\n",
      "/home/meherkh/anaconda3/envs/matchpred/lib/python3.9/site-packages/pytorch_lightning/loops/utilities.py:94: PossibleUserWarning: `max_epochs` was not set. Setting it to 1000 epochs. To train without an epoch limit, set `max_epochs=-1`.\n",
      "  rank_zero_warn(\n",
      "Missing logger folder: /home/meherkh/Meher/deep_reinforcement_learning_hands_on/nbs/lightning_logs\n",
      "\n",
      "  | Name      | Type             | Params\n",
      "-----------------------------------------------\n",
      "0 | net       | Net              | 898   \n",
      "1 | objective | CrossEntropyLoss | 0     \n",
      "-----------------------------------------------\n",
      "898       Trainable params\n",
      "0         Non-trainable params\n",
      "898       Total params\n",
      "0.004     Total estimated model params size (MB)\n"
     ]
    },
    {
     "data": {
      "application/vnd.jupyter.widget-view+json": {
       "model_id": "82cb2edb266a4dbebd20ac0bb67e47ca",
       "version_major": 2,
       "version_minor": 0
      },
      "text/plain": [
       "Training: 0it [00:00, ?it/s]"
      ]
     },
     "metadata": {},
     "output_type": "display_data"
    },
    {
     "name": "stderr",
     "output_type": "stream",
     "text": [
      "/home/meherkh/anaconda3/envs/matchpred/lib/python3.9/site-packages/pytorch_lightning/trainer/call.py:48: UserWarning: Detected KeyboardInterrupt, attempting graceful shutdown...\n",
      "  rank_zero_warn(\"Detected KeyboardInterrupt, attempting graceful shutdown...\")\n"
     ]
    }
   ],
   "source": [
    "# Create the PyTorch Lightning module and trainer\n",
    "env = gym.make(\"CartPole-v0\")\n",
    "obs_size = env.observation_space.shape[0]\n",
    "n_actions = env.action_space.n\n",
    "module =CartPoleModule(obs_size, n_actions)\n",
    "\n",
    "\n",
    "# Create a Trainer instance with a logger callback\n",
    "trainer = Trainer()\n",
    "\n",
    "# Start training\n",
    "trainer.fit(module)"
   ]
  }
 ],
 "metadata": {
  "kernelspec": {
   "display_name": "Python 3 (ipykernel)",
   "language": "python",
   "name": "python3"
  }
 },
 "nbformat": 4,
 "nbformat_minor": 5
}
